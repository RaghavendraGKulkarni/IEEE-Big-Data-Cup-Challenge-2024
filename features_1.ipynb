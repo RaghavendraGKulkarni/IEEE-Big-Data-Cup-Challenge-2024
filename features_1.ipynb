{
 "cells": [
  {
   "cell_type": "markdown",
   "id": "3033d8dd-fc7c-47a7-b6d5-84f4b1383a67",
   "metadata": {},
   "source": [
    "# Initial Setup"
   ]
  },
  {
   "cell_type": "markdown",
   "id": "75de02de-d830-4ed0-9030-2b129df4deb0",
   "metadata": {},
   "source": [
    "## Import the required libraries"
   ]
  },
  {
   "cell_type": "code",
   "execution_count": 4,
   "id": "17f3309a-3f09-49db-aa63-21f038432b29",
   "metadata": {},
   "outputs": [],
   "source": [
    "import numpy as np\n",
    "import pandas as pd\n",
    "from sklearn.preprocessing import StandardScaler\n",
    "import torch\n",
    "from torch_geometric.nn import SimpleConv\n",
    "from torch_geometric.data import Data\n",
    "import warnings\n",
    "warnings.filterwarnings('ignore')\n",
    "from torch_geometric.loader import NeighborLoader"
   ]
  },
  {
   "cell_type": "markdown",
   "id": "afa3e19b-c25d-41ec-bbfe-2e95485ad6cc",
   "metadata": {},
   "source": [
    "## Set the Device"
   ]
  },
  {
   "cell_type": "code",
   "execution_count": 5,
   "id": "175856ff-b969-49dd-8d25-52cc44d9ad8b",
   "metadata": {},
   "outputs": [
    {
     "name": "stdout",
     "output_type": "stream",
     "text": [
      "cuda\n"
     ]
    }
   ],
   "source": [
    "device = torch.device(\"cuda\" if torch.cuda.is_available() else \"cpu\")\n",
    "print(device)"
   ]
  },
  {
   "cell_type": "markdown",
   "id": "30bf9d51-8793-4389-bc37-a7f2696644b5",
   "metadata": {},
   "source": [
    "# Load the Dataset"
   ]
  },
  {
   "cell_type": "code",
   "execution_count": 6,
   "id": "ae71700a-3333-441e-a2a5-9397e410a023",
   "metadata": {},
   "outputs": [
    {
     "data": {
      "text/plain": [
       "1113811"
      ]
     },
     "execution_count": 6,
     "metadata": {},
     "output_type": "execute_result"
    }
   ],
   "source": [
    "trainEdgeList = []\n",
    "with open('train.txt') as inputFile:\n",
    "    numNodes = int(inputFile.readline())\n",
    "    for line in inputFile.readlines():\n",
    "        src, dst, weight = map(int, line.split())\n",
    "        trainEdgeList.append([src, dst, weight])\n",
    "len(trainEdgeList)"
   ]
  },
  {
   "cell_type": "code",
   "execution_count": 7,
   "id": "82438cdd-ff8c-44d7-87bf-55d21dceda40",
   "metadata": {},
   "outputs": [
    {
     "data": {
      "text/html": [
       "<div>\n",
       "<style scoped>\n",
       "    .dataframe tbody tr th:only-of-type {\n",
       "        vertical-align: middle;\n",
       "    }\n",
       "\n",
       "    .dataframe tbody tr th {\n",
       "        vertical-align: top;\n",
       "    }\n",
       "\n",
       "    .dataframe thead th {\n",
       "        text-align: right;\n",
       "    }\n",
       "</style>\n",
       "<table border=\"1\" class=\"dataframe\">\n",
       "  <thead>\n",
       "    <tr style=\"text-align: right;\">\n",
       "      <th></th>\n",
       "      <th>from</th>\n",
       "      <th>to</th>\n",
       "      <th>weight</th>\n",
       "    </tr>\n",
       "  </thead>\n",
       "  <tbody>\n",
       "    <tr>\n",
       "      <th>0</th>\n",
       "      <td>701683</td>\n",
       "      <td>871966</td>\n",
       "      <td>0.007194</td>\n",
       "    </tr>\n",
       "    <tr>\n",
       "      <th>1</th>\n",
       "      <td>729650</td>\n",
       "      <td>974012</td>\n",
       "      <td>0.100000</td>\n",
       "    </tr>\n",
       "    <tr>\n",
       "      <th>2</th>\n",
       "      <td>93571</td>\n",
       "      <td>927327</td>\n",
       "      <td>0.010989</td>\n",
       "    </tr>\n",
       "    <tr>\n",
       "      <th>3</th>\n",
       "      <td>339405</td>\n",
       "      <td>563090</td>\n",
       "      <td>1.000000</td>\n",
       "    </tr>\n",
       "    <tr>\n",
       "      <th>4</th>\n",
       "      <td>1003443</td>\n",
       "      <td>652581</td>\n",
       "      <td>0.010870</td>\n",
       "    </tr>\n",
       "  </tbody>\n",
       "</table>\n",
       "</div>"
      ],
      "text/plain": [
       "      from      to    weight\n",
       "0   701683  871966  0.007194\n",
       "1   729650  974012  0.100000\n",
       "2    93571  927327  0.010989\n",
       "3   339405  563090  1.000000\n",
       "4  1003443  652581  0.010870"
      ]
     },
     "execution_count": 7,
     "metadata": {},
     "output_type": "execute_result"
    }
   ],
   "source": [
    "trainEdgeDF = pd.DataFrame(trainEdgeList, columns = ['from', 'to', 'weight'])\n",
    "trainEdgeDF['weight'] = trainEdgeDF.groupby('from')['weight'].transform(lambda x: x / x.sum())\n",
    "trainEdgeDF.head()"
   ]
  },
  {
   "cell_type": "markdown",
   "id": "d4605697-f6e6-4876-9db5-8ffd06da3175",
   "metadata": {},
   "source": [
    "# Topological Feature Extraction"
   ]
  },
  {
   "cell_type": "markdown",
   "id": "ae3a81fa-0631-4763-90a7-000e143c2b40",
   "metadata": {},
   "source": [
    "## Populate Initial Embeddings"
   ]
  },
  {
   "cell_type": "code",
   "execution_count": 8,
   "id": "7f238e83-6e25-42a2-9fe9-d7ced915ab72",
   "metadata": {},
   "outputs": [
    {
     "data": {
      "text/html": [
       "<div>\n",
       "<style scoped>\n",
       "    .dataframe tbody tr th:only-of-type {\n",
       "        vertical-align: middle;\n",
       "    }\n",
       "\n",
       "    .dataframe tbody tr th {\n",
       "        vertical-align: top;\n",
       "    }\n",
       "\n",
       "    .dataframe thead th {\n",
       "        text-align: right;\n",
       "    }\n",
       "</style>\n",
       "<table border=\"1\" class=\"dataframe\">\n",
       "  <thead>\n",
       "    <tr style=\"text-align: right;\">\n",
       "      <th></th>\n",
       "      <th>0</th>\n",
       "      <th>1</th>\n",
       "      <th>2</th>\n",
       "      <th>3</th>\n",
       "      <th>4</th>\n",
       "      <th>5</th>\n",
       "      <th>6</th>\n",
       "      <th>7</th>\n",
       "      <th>8</th>\n",
       "      <th>9</th>\n",
       "      <th>...</th>\n",
       "      <th>11</th>\n",
       "      <th>12</th>\n",
       "      <th>13</th>\n",
       "      <th>14</th>\n",
       "      <th>15</th>\n",
       "      <th>16</th>\n",
       "      <th>17</th>\n",
       "      <th>18</th>\n",
       "      <th>19</th>\n",
       "      <th>20</th>\n",
       "    </tr>\n",
       "  </thead>\n",
       "  <tbody>\n",
       "    <tr>\n",
       "      <th>0</th>\n",
       "      <td>0</td>\n",
       "      <td>0</td>\n",
       "      <td>0</td>\n",
       "      <td>0</td>\n",
       "      <td>0</td>\n",
       "      <td>0</td>\n",
       "      <td>0</td>\n",
       "      <td>0</td>\n",
       "      <td>0</td>\n",
       "      <td>0</td>\n",
       "      <td>...</td>\n",
       "      <td>0</td>\n",
       "      <td>0</td>\n",
       "      <td>0</td>\n",
       "      <td>0</td>\n",
       "      <td>0</td>\n",
       "      <td>0</td>\n",
       "      <td>0</td>\n",
       "      <td>0</td>\n",
       "      <td>0</td>\n",
       "      <td>0</td>\n",
       "    </tr>\n",
       "    <tr>\n",
       "      <th>1</th>\n",
       "      <td>0</td>\n",
       "      <td>0</td>\n",
       "      <td>0</td>\n",
       "      <td>0</td>\n",
       "      <td>0</td>\n",
       "      <td>0</td>\n",
       "      <td>0</td>\n",
       "      <td>0</td>\n",
       "      <td>0</td>\n",
       "      <td>0</td>\n",
       "      <td>...</td>\n",
       "      <td>0</td>\n",
       "      <td>0</td>\n",
       "      <td>0</td>\n",
       "      <td>0</td>\n",
       "      <td>0</td>\n",
       "      <td>0</td>\n",
       "      <td>0</td>\n",
       "      <td>0</td>\n",
       "      <td>0</td>\n",
       "      <td>1</td>\n",
       "    </tr>\n",
       "    <tr>\n",
       "      <th>2</th>\n",
       "      <td>0</td>\n",
       "      <td>0</td>\n",
       "      <td>0</td>\n",
       "      <td>0</td>\n",
       "      <td>0</td>\n",
       "      <td>0</td>\n",
       "      <td>0</td>\n",
       "      <td>0</td>\n",
       "      <td>0</td>\n",
       "      <td>0</td>\n",
       "      <td>...</td>\n",
       "      <td>0</td>\n",
       "      <td>0</td>\n",
       "      <td>0</td>\n",
       "      <td>0</td>\n",
       "      <td>0</td>\n",
       "      <td>0</td>\n",
       "      <td>0</td>\n",
       "      <td>0</td>\n",
       "      <td>1</td>\n",
       "      <td>0</td>\n",
       "    </tr>\n",
       "    <tr>\n",
       "      <th>3</th>\n",
       "      <td>0</td>\n",
       "      <td>0</td>\n",
       "      <td>0</td>\n",
       "      <td>0</td>\n",
       "      <td>0</td>\n",
       "      <td>0</td>\n",
       "      <td>0</td>\n",
       "      <td>0</td>\n",
       "      <td>0</td>\n",
       "      <td>0</td>\n",
       "      <td>...</td>\n",
       "      <td>0</td>\n",
       "      <td>0</td>\n",
       "      <td>0</td>\n",
       "      <td>0</td>\n",
       "      <td>0</td>\n",
       "      <td>0</td>\n",
       "      <td>0</td>\n",
       "      <td>0</td>\n",
       "      <td>1</td>\n",
       "      <td>1</td>\n",
       "    </tr>\n",
       "    <tr>\n",
       "      <th>4</th>\n",
       "      <td>0</td>\n",
       "      <td>0</td>\n",
       "      <td>0</td>\n",
       "      <td>0</td>\n",
       "      <td>0</td>\n",
       "      <td>0</td>\n",
       "      <td>0</td>\n",
       "      <td>0</td>\n",
       "      <td>0</td>\n",
       "      <td>0</td>\n",
       "      <td>...</td>\n",
       "      <td>0</td>\n",
       "      <td>0</td>\n",
       "      <td>0</td>\n",
       "      <td>0</td>\n",
       "      <td>0</td>\n",
       "      <td>0</td>\n",
       "      <td>0</td>\n",
       "      <td>1</td>\n",
       "      <td>0</td>\n",
       "      <td>0</td>\n",
       "    </tr>\n",
       "  </tbody>\n",
       "</table>\n",
       "<p>5 rows × 21 columns</p>\n",
       "</div>"
      ],
      "text/plain": [
       "   0   1   2   3   4   5   6   7   8   9   ...  11  12  13  14  15  16  17  \\\n",
       "0   0   0   0   0   0   0   0   0   0   0  ...   0   0   0   0   0   0   0   \n",
       "1   0   0   0   0   0   0   0   0   0   0  ...   0   0   0   0   0   0   0   \n",
       "2   0   0   0   0   0   0   0   0   0   0  ...   0   0   0   0   0   0   0   \n",
       "3   0   0   0   0   0   0   0   0   0   0  ...   0   0   0   0   0   0   0   \n",
       "4   0   0   0   0   0   0   0   0   0   0  ...   0   0   0   0   0   0   0   \n",
       "\n",
       "   18  19  20  \n",
       "0   0   0   0  \n",
       "1   0   0   1  \n",
       "2   0   1   0  \n",
       "3   0   1   1  \n",
       "4   1   0   0  \n",
       "\n",
       "[5 rows x 21 columns]"
      ]
     },
     "execution_count": 8,
     "metadata": {},
     "output_type": "execute_result"
    }
   ],
   "source": [
    "nodes = [bin(node).replace('0b', '') for node in range(numNodes)]\n",
    "maxLen = max([len(node) for node in nodes])\n",
    "for i in range(len(nodes)):\n",
    "    nodes[i] = '0'*(maxLen - len(nodes[i])) + nodes[i]\n",
    "    nodes[i] = list(map(int, [ch for ch in nodes[i]]))\n",
    "features = pd.DataFrame(nodes)\n",
    "features.head()"
   ]
  },
  {
   "cell_type": "markdown",
   "id": "25d71e78-e1c8-4365-ab16-315b81114d75",
   "metadata": {},
   "source": [
    "## Create PyTorch-Geometric Object"
   ]
  },
  {
   "cell_type": "code",
   "execution_count": 9,
   "id": "c2f354ad-d162-4a26-b31c-13bd0dc0402d",
   "metadata": {},
   "outputs": [],
   "source": [
    "train_edge_index = torch.tensor((trainEdgeDF[['from', 'to']].values).T)\n",
    "train_edge_weight = torch.tensor((trainEdgeDF[['weight']].values).T)"
   ]
  },
  {
   "cell_type": "code",
   "execution_count": 10,
   "id": "05dc6eaa-bf6f-4dcf-b797-1854c1f83179",
   "metadata": {},
   "outputs": [
    {
     "data": {
      "text/plain": [
       "(torch.Size([1563421, 21]), torch.Size([2, 1113811]), torch.Size([1, 1113811]))"
      ]
     },
     "execution_count": 10,
     "metadata": {},
     "output_type": "execute_result"
    }
   ],
   "source": [
    "train_features = torch.tensor(np.array(features.values, dtype = np.float32), dtype = torch.float32)\n",
    "train_features.shape, train_edge_index.shape, train_edge_weight.shape"
   ]
  },
  {
   "cell_type": "code",
   "execution_count": 11,
   "id": "b769d656-9708-4a22-b439-a28375a36c21",
   "metadata": {},
   "outputs": [],
   "source": [
    "data = Data(x = train_features, edge_index = train_edge_index, edge_attr = train_edge_weight)\n",
    "mask_length = features.shape[0]\n",
    "mask = np.array([True for _ in range(mask_length)])"
   ]
  },
  {
   "cell_type": "markdown",
   "id": "4cdcabda-152e-4624-a159-3b415b46ae65",
   "metadata": {},
   "source": [
    "## Prepare Data Loader"
   ]
  },
  {
   "cell_type": "code",
   "execution_count": 12,
   "id": "f5e9afaf-e786-4c59-9a99-003bcf8b91f4",
   "metadata": {},
   "outputs": [],
   "source": [
    "loader = NeighborLoader(data, input_nodes = mask, num_neighbors = [25, 10], batch_size = 1024)"
   ]
  },
  {
   "cell_type": "markdown",
   "id": "2866f9a3-69f8-4fce-860a-4da9633218f2",
   "metadata": {},
   "source": [
    "## Define and Run the Aggregator Model"
   ]
  },
  {
   "cell_type": "code",
   "execution_count": 13,
   "id": "4ee1c8dc-773a-4b4a-8f9a-737f6688f1fd",
   "metadata": {},
   "outputs": [],
   "source": [
    "class embedding(torch.nn.Module):\n",
    "    def __init__(self):\n",
    "        super(embedding, self).__init__()\n",
    "        self.conv1 = SimpleConv(aggr = 'add', combine_root = 'sum')\n",
    "\n",
    "    def forward(self, x, edge_index, edge_weight):\n",
    "        return self.conv1(x, edge_index, edge_weight)"
   ]
  },
  {
   "cell_type": "code",
   "execution_count": 14,
   "id": "5bdf4603-a93d-428c-9617-8e7f356d1484",
   "metadata": {},
   "outputs": [],
   "source": [
    "model = embedding().to(device)"
   ]
  },
  {
   "cell_type": "code",
   "execution_count": 15,
   "id": "8ff23954-4112-4362-a21d-45ddb8bd1dc8",
   "metadata": {},
   "outputs": [
    {
     "name": "stdout",
     "output_type": "stream",
     "text": [
      "Epoch: 10\n",
      "Epoch: 20\n",
      "Epoch: 30\n",
      "Epoch: 40\n",
      "Epoch: 50\n",
      "Epoch: 60\n",
      "Epoch: 70\n",
      "Epoch: 80\n",
      "Epoch: 90\n",
      "Epoch: 100\n"
     ]
    }
   ],
   "source": [
    "for epoch in range(1, 101):\n",
    "    for batch in loader:\n",
    "        batch = batch.to(device)\n",
    "        embeddings = model(batch.x, batch.edge_index, batch.edge_attr.t()[batch.e_id])\n",
    "    if epoch % 10 == 0:\n",
    "        print(f'Epoch: {epoch}')"
   ]
  },
  {
   "cell_type": "markdown",
   "id": "6a939e9f-9c57-47f0-8f21-b94986724115",
   "metadata": {},
   "source": [
    "## Extract the Topological Features"
   ]
  },
  {
   "cell_type": "code",
   "execution_count": 16,
   "id": "da05f4b3-487e-452b-838a-4329c8ebb516",
   "metadata": {},
   "outputs": [
    {
     "data": {
      "text/plain": [
       "tensor([[0.0000, 1.0000, 1.0000,  ..., 1.0000, 1.0000, 1.0000],\n",
       "        [0.0000, 0.0000, 0.0035,  ..., 0.0035, 0.0035, 1.0000],\n",
       "        [0.0000, 0.0000, 0.0000,  ..., 0.0000, 1.0000, 0.0000],\n",
       "        ...,\n",
       "        [1.0000, 0.0000, 1.0000,  ..., 1.0000, 1.0000, 0.0000],\n",
       "        [1.0000, 0.0000, 1.0000,  ..., 0.0000, 1.0000, 1.0000],\n",
       "        [1.0000, 0.0000, 1.0000,  ..., 1.0000, 0.0000, 0.0000]],\n",
       "       device='cuda:0', dtype=torch.float64)"
      ]
     },
     "execution_count": 16,
     "metadata": {},
     "output_type": "execute_result"
    }
   ],
   "source": [
    "data = data.to(device)\n",
    "embeddings = model(data.x, data.edge_index, data.edge_attr)\n",
    "embeddings"
   ]
  },
  {
   "cell_type": "code",
   "execution_count": 17,
   "id": "e12c4bc0-baa0-42d0-8652-9e3690da4f3d",
   "metadata": {},
   "outputs": [
    {
     "data": {
      "text/plain": [
       "(1563421, 21)"
      ]
     },
     "execution_count": 17,
     "metadata": {},
     "output_type": "execute_result"
    }
   ],
   "source": [
    "embeddings_numpy = embeddings.cpu().numpy()\n",
    "embeddings_numpy.shape"
   ]
  },
  {
   "cell_type": "code",
   "execution_count": 18,
   "id": "95dd62ed-a88b-422f-b12c-b7467f2b9319",
   "metadata": {},
   "outputs": [
    {
     "data": {
      "text/html": [
       "<div>\n",
       "<style scoped>\n",
       "    .dataframe tbody tr th:only-of-type {\n",
       "        vertical-align: middle;\n",
       "    }\n",
       "\n",
       "    .dataframe tbody tr th {\n",
       "        vertical-align: top;\n",
       "    }\n",
       "\n",
       "    .dataframe thead th {\n",
       "        text-align: right;\n",
       "    }\n",
       "</style>\n",
       "<table border=\"1\" class=\"dataframe\">\n",
       "  <thead>\n",
       "    <tr style=\"text-align: right;\">\n",
       "      <th></th>\n",
       "      <th>0</th>\n",
       "      <th>1</th>\n",
       "      <th>2</th>\n",
       "      <th>3</th>\n",
       "      <th>4</th>\n",
       "      <th>5</th>\n",
       "      <th>6</th>\n",
       "      <th>7</th>\n",
       "      <th>8</th>\n",
       "      <th>9</th>\n",
       "      <th>...</th>\n",
       "      <th>11</th>\n",
       "      <th>12</th>\n",
       "      <th>13</th>\n",
       "      <th>14</th>\n",
       "      <th>15</th>\n",
       "      <th>16</th>\n",
       "      <th>17</th>\n",
       "      <th>18</th>\n",
       "      <th>19</th>\n",
       "      <th>20</th>\n",
       "    </tr>\n",
       "  </thead>\n",
       "  <tbody>\n",
       "    <tr>\n",
       "      <th>0</th>\n",
       "      <td>0.000000</td>\n",
       "      <td>1.0</td>\n",
       "      <td>1.000000</td>\n",
       "      <td>1.000000</td>\n",
       "      <td>1.000000</td>\n",
       "      <td>1.000000</td>\n",
       "      <td>0.000000</td>\n",
       "      <td>1.000000</td>\n",
       "      <td>1.000000</td>\n",
       "      <td>1.000000</td>\n",
       "      <td>...</td>\n",
       "      <td>0.000000</td>\n",
       "      <td>1.000000</td>\n",
       "      <td>0.0</td>\n",
       "      <td>0.0</td>\n",
       "      <td>0.000000</td>\n",
       "      <td>1.000000</td>\n",
       "      <td>0.000000</td>\n",
       "      <td>1.000000</td>\n",
       "      <td>1.000000</td>\n",
       "      <td>1.0</td>\n",
       "    </tr>\n",
       "    <tr>\n",
       "      <th>1</th>\n",
       "      <td>0.000000</td>\n",
       "      <td>0.0</td>\n",
       "      <td>0.003521</td>\n",
       "      <td>0.003521</td>\n",
       "      <td>0.003521</td>\n",
       "      <td>0.000000</td>\n",
       "      <td>0.003521</td>\n",
       "      <td>0.003521</td>\n",
       "      <td>0.000000</td>\n",
       "      <td>0.000000</td>\n",
       "      <td>...</td>\n",
       "      <td>0.003521</td>\n",
       "      <td>0.003521</td>\n",
       "      <td>0.0</td>\n",
       "      <td>0.0</td>\n",
       "      <td>0.003521</td>\n",
       "      <td>0.003521</td>\n",
       "      <td>0.000000</td>\n",
       "      <td>0.003521</td>\n",
       "      <td>0.003521</td>\n",
       "      <td>1.0</td>\n",
       "    </tr>\n",
       "    <tr>\n",
       "      <th>2</th>\n",
       "      <td>0.000000</td>\n",
       "      <td>0.0</td>\n",
       "      <td>0.000000</td>\n",
       "      <td>0.000000</td>\n",
       "      <td>0.000000</td>\n",
       "      <td>0.000000</td>\n",
       "      <td>0.000000</td>\n",
       "      <td>0.000000</td>\n",
       "      <td>0.000000</td>\n",
       "      <td>0.000000</td>\n",
       "      <td>...</td>\n",
       "      <td>0.000000</td>\n",
       "      <td>0.000000</td>\n",
       "      <td>0.0</td>\n",
       "      <td>0.0</td>\n",
       "      <td>0.000000</td>\n",
       "      <td>0.000000</td>\n",
       "      <td>0.000000</td>\n",
       "      <td>0.000000</td>\n",
       "      <td>1.000000</td>\n",
       "      <td>0.0</td>\n",
       "    </tr>\n",
       "    <tr>\n",
       "      <th>3</th>\n",
       "      <td>0.000000</td>\n",
       "      <td>1.0</td>\n",
       "      <td>0.000000</td>\n",
       "      <td>0.000000</td>\n",
       "      <td>1.000000</td>\n",
       "      <td>1.000000</td>\n",
       "      <td>0.000000</td>\n",
       "      <td>0.000000</td>\n",
       "      <td>0.000000</td>\n",
       "      <td>0.000000</td>\n",
       "      <td>...</td>\n",
       "      <td>1.000000</td>\n",
       "      <td>1.000000</td>\n",
       "      <td>0.0</td>\n",
       "      <td>0.0</td>\n",
       "      <td>0.000000</td>\n",
       "      <td>1.000000</td>\n",
       "      <td>0.000000</td>\n",
       "      <td>1.000000</td>\n",
       "      <td>2.000000</td>\n",
       "      <td>2.0</td>\n",
       "    </tr>\n",
       "    <tr>\n",
       "      <th>4</th>\n",
       "      <td>0.006667</td>\n",
       "      <td>0.0</td>\n",
       "      <td>0.000000</td>\n",
       "      <td>0.000000</td>\n",
       "      <td>0.000000</td>\n",
       "      <td>0.006667</td>\n",
       "      <td>0.006667</td>\n",
       "      <td>0.000000</td>\n",
       "      <td>0.006667</td>\n",
       "      <td>0.006667</td>\n",
       "      <td>...</td>\n",
       "      <td>0.000000</td>\n",
       "      <td>0.006667</td>\n",
       "      <td>0.0</td>\n",
       "      <td>0.0</td>\n",
       "      <td>0.006667</td>\n",
       "      <td>0.006667</td>\n",
       "      <td>0.006667</td>\n",
       "      <td>1.000000</td>\n",
       "      <td>0.006667</td>\n",
       "      <td>0.0</td>\n",
       "    </tr>\n",
       "  </tbody>\n",
       "</table>\n",
       "<p>5 rows × 21 columns</p>\n",
       "</div>"
      ],
      "text/plain": [
       "         0    1         2         3         4         5         6         7   \\\n",
       "0  0.000000  1.0  1.000000  1.000000  1.000000  1.000000  0.000000  1.000000   \n",
       "1  0.000000  0.0  0.003521  0.003521  0.003521  0.000000  0.003521  0.003521   \n",
       "2  0.000000  0.0  0.000000  0.000000  0.000000  0.000000  0.000000  0.000000   \n",
       "3  0.000000  1.0  0.000000  0.000000  1.000000  1.000000  0.000000  0.000000   \n",
       "4  0.006667  0.0  0.000000  0.000000  0.000000  0.006667  0.006667  0.000000   \n",
       "\n",
       "         8         9   ...        11        12   13   14        15        16  \\\n",
       "0  1.000000  1.000000  ...  0.000000  1.000000  0.0  0.0  0.000000  1.000000   \n",
       "1  0.000000  0.000000  ...  0.003521  0.003521  0.0  0.0  0.003521  0.003521   \n",
       "2  0.000000  0.000000  ...  0.000000  0.000000  0.0  0.0  0.000000  0.000000   \n",
       "3  0.000000  0.000000  ...  1.000000  1.000000  0.0  0.0  0.000000  1.000000   \n",
       "4  0.006667  0.006667  ...  0.000000  0.006667  0.0  0.0  0.006667  0.006667   \n",
       "\n",
       "         17        18        19   20  \n",
       "0  0.000000  1.000000  1.000000  1.0  \n",
       "1  0.000000  0.003521  0.003521  1.0  \n",
       "2  0.000000  0.000000  1.000000  0.0  \n",
       "3  0.000000  1.000000  2.000000  2.0  \n",
       "4  0.006667  1.000000  0.006667  0.0  \n",
       "\n",
       "[5 rows x 21 columns]"
      ]
     },
     "execution_count": 18,
     "metadata": {},
     "output_type": "execute_result"
    }
   ],
   "source": [
    "features = pd.DataFrame(embeddings_numpy, columns = [feature for feature in range(embeddings_numpy.shape[1])])\n",
    "features.head()"
   ]
  },
  {
   "cell_type": "markdown",
   "id": "16eed055-5a02-4ee0-930e-02f2cd2ccc19",
   "metadata": {},
   "source": [
    "## Save the Topological Features"
   ]
  },
  {
   "cell_type": "code",
   "execution_count": null,
   "id": "b95b7b56-b08d-42d5-a5a3-92956ebd1c0c",
   "metadata": {},
   "outputs": [],
   "source": [
    "features.to_csv('features.csv', index = False)"
   ]
  }
 ],
 "metadata": {
  "kernelspec": {
   "display_name": "Python 3 (ipykernel)",
   "language": "python",
   "name": "python3"
  },
  "language_info": {
   "codemirror_mode": {
    "name": "ipython",
    "version": 3
   },
   "file_extension": ".py",
   "mimetype": "text/x-python",
   "name": "python",
   "nbconvert_exporter": "python",
   "pygments_lexer": "ipython3",
   "version": "3.12.4"
  }
 },
 "nbformat": 4,
 "nbformat_minor": 5
}
